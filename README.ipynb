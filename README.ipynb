{
 "cells": [
  {
   "cell_type": "markdown",
   "metadata": {},
   "source": [
    "# ST2195 Programming for Data Science\n",
    "##### Lee Hin Sing Raymond\n",
    "##### January 2021"
   ]
  },
  {
   "cell_type": "markdown",
   "metadata": {},
   "source": [
    "### Practice Assignment 5\n",
    "\n",
    "#### Introduction\n",
    "\n",
    "This is the fifth assignment for the course [**ST2195 Programming for Data Science**](https://www.lse.ac.uk/study-at-lse/uolip/Assets/documents/21-22-CIS-Sheets/ST2195-Programming-for-data-science.pdf). R and Python programming will be the main focus of this introductory course.\n",
    "\n",
    "This is a compulsory 200-course for students who are going for a **BSc Data Science and Business Analytics** degree in the University of London, the academic direction of the degree program is provided by [London School of Economics and Political Science](https://www.lse.ac.uk/) (LSE). The course convenors are Mr [Ioannis Kosmidis](https://www.ikosmidis.com/) and Dr [Kostas Kalogeropoulos](https://www.lse.ac.uk/Statistics/People/Dr-Kostas-Kalogeropoulos).\n",
    "\n",
    "Throughout the half-year course, there will be a take-home assignment every two weeks to demonstrate what we have learned before. All final works should be uploaded to a GitHub repository for version control.\n",
    "\n",
    "### Assignment\n",
    "\n",
    "Create a GitHub repository called “st2195_assignment_5”:\n",
    "\n",
    "* Commit/push the code below as a file called \"foo.py\"\n",
    "\n",
    "* Find and fix all the bugs in the code [1 point is awarded for every fixed bug]. \n",
    "Instructions are given in the form of comments in the code\n",
    "\n",
    "* Update \"foo.py\" by committing and pushing the revisions."
   ]
  },
  {
   "cell_type": "markdown",
   "metadata": {},
   "source": [
    "```Python\n",
    "# foo.py\n",
    "def is_divisible_by_k(x, k):\n",
    "    '''\n",
    "     Checks whether x is divisible by k.\n",
    "     '''\n",
    "     assert x%k == 0\n",
    "\n",
    "'''\n",
    "Store all the integers that are multiples of 2 or 5 or 7 that are lower \n",
    "or equal to 1000 (excluding doubles)\n",
    "'''\n",
    "x = ()\n",
    "for i in range(1000):\n",
    "     if (is_divisible_by_k(x, 2) & is_divisible_by_k(x, 3)) |\n",
    "is_divisible_by_k(x, 7):\n",
    "     x.append(i)\n",
    " \n",
    "'''\n",
    "Sum all the integers that are multiples of 2 or 5 or 7 that are lower \n",
    "or equal to 1000 (excluding doubles)\n",
    "'''\n",
    "sum(x)\n",
    "```"
   ]
  },
  {
   "cell_type": "code",
   "execution_count": null,
   "metadata": {},
   "outputs": [],
   "source": []
  }
 ],
 "metadata": {
  "kernelspec": {
   "display_name": "Python 3",
   "language": "python",
   "name": "python3"
  },
  "language_info": {
   "codemirror_mode": {
    "name": "ipython",
    "version": 3
   },
   "file_extension": ".py",
   "mimetype": "text/x-python",
   "name": "python",
   "nbconvert_exporter": "python",
   "pygments_lexer": "ipython3",
   "version": "3.8.3"
  }
 },
 "nbformat": 4,
 "nbformat_minor": 4
}
